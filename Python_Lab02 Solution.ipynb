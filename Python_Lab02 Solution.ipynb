{
 "cells": [
  {
   "cell_type": "markdown",
   "id": "d194e00a",
   "metadata": {},
   "source": [
    "- Create a variable for the movie (choose any movie you like)."
   ]
  },
  {
   "cell_type": "code",
   "execution_count": 1,
   "id": "6528e73c",
   "metadata": {},
   "outputs": [],
   "source": [
    "Movie_name = 'Interstellar'"
   ]
  },
  {
   "cell_type": "markdown",
   "id": "138ef031",
   "metadata": {},
   "source": [
    "- Create a variable of type int to hold the rating of the movie out of 5. Give this movie rate = 3"
   ]
  },
  {
   "cell_type": "code",
   "execution_count": 2,
   "id": "e1181fab",
   "metadata": {},
   "outputs": [],
   "source": [
    "Movie_rate=int(3)"
   ]
  },
  {
   "cell_type": "markdown",
   "id": "a4d08003",
   "metadata": {},
   "source": [
    "- Create a popularity score of type float, let it be 72.65"
   ]
  },
  {
   "cell_type": "code",
   "execution_count": 4,
   "id": "319af648",
   "metadata": {},
   "outputs": [],
   "source": [
    "Movie_popularity_score = float(72.65)"
   ]
  },
  {
   "cell_type": "markdown",
   "id": "e103ba5a",
   "metadata": {},
   "source": [
    "### Using an if statement:"
   ]
  },
  {
   "cell_type": "markdown",
   "id": "ce873f24",
   "metadata": {},
   "source": [
    "\n",
    "> Check if the movie rating is 4 or greater and the popularity is greater than 80, print \"Highly recommended\".\n",
    "\n",
    "> Else if the movie rating is 3 or greater and the popularity is greater than 70, print \"I recommended it, It is good\".\n",
    "\n",
    "> Else if the movie rating is 2 or less and the popularity is greater than 60, print \"You should check it out!\".\n",
    "\n",
    "> Else the movie rating is 2 or less and the popularity is less than 50, print \"Don't watch it, It is a waste of time\""
   ]
  },
  {
   "cell_type": "code",
   "execution_count": 14,
   "id": "c27c2f64",
   "metadata": {},
   "outputs": [
    {
     "name": "stdout",
     "output_type": "stream",
     "text": [
      "I recommended it, It is good\n"
     ]
    }
   ],
   "source": [
    "if Movie_rate>=4 and Movie_popularity_score>80:\n",
    "    print('Highly recommended')\n",
    "elif Movie_rate>=3 and Movie_popularity_score>70:\n",
    "    print('I recommended it, It is good')\n",
    "elif Movie_rate<=2 and Movie_popularity_score>60:\n",
    "    print('You should check it out!')\n",
    "else :\n",
    "    print(\"Don't watch it, It is a waste of time\")  "
   ]
  },
  {
   "cell_type": "code",
   "execution_count": null,
   "id": "921a6775",
   "metadata": {},
   "outputs": [],
   "source": []
  }
 ],
 "metadata": {
  "kernelspec": {
   "display_name": "Python 3 (ipykernel)",
   "language": "python",
   "name": "python3"
  },
  "language_info": {
   "codemirror_mode": {
    "name": "ipython",
    "version": 3
   },
   "file_extension": ".py",
   "mimetype": "text/x-python",
   "name": "python",
   "nbconvert_exporter": "python",
   "pygments_lexer": "ipython3",
   "version": "3.10.9"
  }
 },
 "nbformat": 4,
 "nbformat_minor": 5
}
